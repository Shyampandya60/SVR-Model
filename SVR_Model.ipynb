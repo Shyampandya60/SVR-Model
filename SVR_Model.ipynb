{
  "nbformat": 4,
  "nbformat_minor": 0,
  "metadata": {
    "colab": {
      "provenance": []
    },
    "kernelspec": {
      "name": "python3",
      "display_name": "Python 3"
    },
    "language_info": {
      "name": "python"
    }
  },
  "cells": [
    {
      "cell_type": "code",
      "source": [
        "from google.colab import drive\n",
        "drive.mount('/content/drive')"
      ],
      "metadata": {
        "colab": {
          "base_uri": "https://localhost:8080/"
        },
        "id": "tyMbEETiGmCB",
        "outputId": "a383b2a9-e697-4ed1-a96c-df6b652744f7"
      },
      "execution_count": 11,
      "outputs": [
        {
          "output_type": "stream",
          "name": "stdout",
          "text": [
            "Drive already mounted at /content/drive; to attempt to forcibly remount, call drive.mount(\"/content/drive\", force_remount=True).\n"
          ]
        }
      ]
    },
    {
      "cell_type": "code",
      "execution_count": null,
      "metadata": {
        "id": "SIvm-mNhby3a"
      },
      "outputs": [],
      "source": [
        "# Import required libraries\n",
        "import pandas as pd\n",
        "from sklearn.svm import SVR\n",
        "from sklearn.model_selection import train_test_split\n",
        "from sklearn.metrics import mean_squared_error\n",
        "import numpy as np\n",
        "\n",
        "# Load data into a Pandas dataframe\n",
        "data = pd.read_csv('/content/drive/MyDrive/coviddeathbycountry.csv')\n",
        "\n",
        "# Replace missing values with NaN\n",
        "data = data.replace('—', np.nan)\n",
        "\n",
        "# Drop rows with missing values\n",
        "data = data.dropna()\n",
        "\n",
        "# Select the features and target variable\n",
        "X = data['Cases'].values.reshape(-1, 1)\n",
        "y = data['Deaths'].values.reshape(-1, 1)\n",
        "\n",
        "# Split the data into training and testing sets\n",
        "X_train, X_test, y_train, y_test = train_test_split(X, y, test_size=0.2, random_state=42)\n",
        "\n",
        "# Create and train the SVR model\n",
        "svr = SVR(kernel='linear', C=100, gamma='auto')\n",
        "svr.fit(X_train, y_train.ravel())\n",
        "\n",
        "# Make predictions on the test set\n",
        "y_pred = svr.predict(X_test)\n",
        "\n",
        "# Evaluate the model's performance using mean squared error\n",
        "mse = mean_squared_error(y_test, y_pred)\n",
        "print('Mean squared error: ', mse)\n"
      ]
    }
  ]
}